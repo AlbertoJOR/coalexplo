{
 "cells": [
  {
   "cell_type": "markdown",
   "id": "073c066f-4f51-4099-9e6f-89eac56ab3c0",
   "metadata": {},
   "source": [
    "### Data Cleaning\n",
    "2021-08-27\n",
    "\n",
    "by: Alberto Josué\n",
    "\n",
    "cleaned up data-removed 0 producction coal mines "
   ]
  },
  {
   "cell_type": "code",
   "execution_count": 3,
   "id": "cc5f7796-8352-4c5b-afbd-14ac44b72583",
   "metadata": {},
   "outputs": [],
   "source": [
    "output_file = \"../data/clean_coalpublic2019_log.xls\"\n",
    "import pandas as pd\n",
    "import numpy as np"
   ]
  },
  {
   "cell_type": "code",
   "execution_count": 4,
   "id": "1377565e-19dc-4bca-af7c-00ed21b5cf34",
   "metadata": {},
   "outputs": [],
   "source": [
    "df= pd.read_excel(\"../data/coalpublic2019.xls\", header=3, index_col='MSHA ID')"
   ]
  },
  {
   "cell_type": "code",
   "execution_count": 5,
   "id": "038a7c16-25e6-4fb6-ba07-164f712011cd",
   "metadata": {},
   "outputs": [
    {
     "data": {
      "text/html": [
       "<div>\n",
       "<style scoped>\n",
       "    .dataframe tbody tr th:only-of-type {\n",
       "        vertical-align: middle;\n",
       "    }\n",
       "\n",
       "    .dataframe tbody tr th {\n",
       "        vertical-align: top;\n",
       "    }\n",
       "\n",
       "    .dataframe thead th {\n",
       "        text-align: right;\n",
       "    }\n",
       "</style>\n",
       "<table border=\"1\" class=\"dataframe\">\n",
       "  <thead>\n",
       "    <tr style=\"text-align: right;\">\n",
       "      <th></th>\n",
       "      <th>Year</th>\n",
       "      <th>Mine Name</th>\n",
       "      <th>Mine State</th>\n",
       "      <th>Mine County</th>\n",
       "      <th>Mine Status</th>\n",
       "      <th>Mine Type</th>\n",
       "      <th>Company Type</th>\n",
       "      <th>Operation Type</th>\n",
       "      <th>Operating Company</th>\n",
       "      <th>Operating Company Address</th>\n",
       "      <th>Union Code</th>\n",
       "      <th>Coal Supply Region</th>\n",
       "      <th>Production (short tons)</th>\n",
       "      <th>Average Employees</th>\n",
       "      <th>Labor Hours</th>\n",
       "    </tr>\n",
       "    <tr>\n",
       "      <th>MSHA ID</th>\n",
       "      <th></th>\n",
       "      <th></th>\n",
       "      <th></th>\n",
       "      <th></th>\n",
       "      <th></th>\n",
       "      <th></th>\n",
       "      <th></th>\n",
       "      <th></th>\n",
       "      <th></th>\n",
       "      <th></th>\n",
       "      <th></th>\n",
       "      <th></th>\n",
       "      <th></th>\n",
       "      <th></th>\n",
       "      <th></th>\n",
       "    </tr>\n",
       "  </thead>\n",
       "  <tbody>\n",
       "    <tr>\n",
       "      <th>103489</th>\n",
       "      <td>2019</td>\n",
       "      <td>John Poe Mine</td>\n",
       "      <td>Alabama</td>\n",
       "      <td>De Kalb</td>\n",
       "      <td>Active</td>\n",
       "      <td>Surface</td>\n",
       "      <td>Indepedent Producer Operator</td>\n",
       "      <td>Mine only</td>\n",
       "      <td>Kennedy Brothers Construction</td>\n",
       "      <td>756 Co. Rd 676, Fort Payne, AL 35968</td>\n",
       "      <td>NaN</td>\n",
       "      <td>Appalachia Southern</td>\n",
       "      <td>2913</td>\n",
       "      <td>2</td>\n",
       "      <td>720</td>\n",
       "    </tr>\n",
       "    <tr>\n",
       "      <th>100329</th>\n",
       "      <td>2019</td>\n",
       "      <td>Oak Grove Preparation Plant</td>\n",
       "      <td>Alabama</td>\n",
       "      <td>Jefferson</td>\n",
       "      <td>Active</td>\n",
       "      <td>Underground</td>\n",
       "      <td>Indepedent Producer Operator</td>\n",
       "      <td>Preparation Plant</td>\n",
       "      <td>Murray Oak Grove Coal Llc</td>\n",
       "      <td>8360 Taylors Ferry Rd, Hueytown, AL 35023</td>\n",
       "      <td>United Mine Workers Of America</td>\n",
       "      <td>Appalachia Southern</td>\n",
       "      <td>0</td>\n",
       "      <td>58</td>\n",
       "      <td>152268</td>\n",
       "    </tr>\n",
       "    <tr>\n",
       "      <th>100627</th>\n",
       "      <td>2019</td>\n",
       "      <td>Flat Top Mine</td>\n",
       "      <td>Alabama</td>\n",
       "      <td>Jefferson</td>\n",
       "      <td>Active</td>\n",
       "      <td>Surface</td>\n",
       "      <td>Indepedent Producer Operator</td>\n",
       "      <td>Mine only</td>\n",
       "      <td>Cedar Lake Mining, Inc</td>\n",
       "      <td>P.O. Box 1608, Jasper, AL 35502</td>\n",
       "      <td>NaN</td>\n",
       "      <td>Appalachia Southern</td>\n",
       "      <td>259730</td>\n",
       "      <td>40</td>\n",
       "      <td>112709</td>\n",
       "    </tr>\n",
       "    <tr>\n",
       "      <th>100851</th>\n",
       "      <td>2019</td>\n",
       "      <td>Oak Grove Mine</td>\n",
       "      <td>Alabama</td>\n",
       "      <td>Jefferson</td>\n",
       "      <td>Active</td>\n",
       "      <td>Underground</td>\n",
       "      <td>Indepedent Producer Operator</td>\n",
       "      <td>Mine only</td>\n",
       "      <td>Murray Oak Grove Coal Llc</td>\n",
       "      <td>8360 Taylors Ferry Rd, Bessemer, AL 35023</td>\n",
       "      <td>United Mine Workers Of America</td>\n",
       "      <td>Appalachia Southern</td>\n",
       "      <td>1364382</td>\n",
       "      <td>456</td>\n",
       "      <td>1094695</td>\n",
       "    </tr>\n",
       "    <tr>\n",
       "      <th>101401</th>\n",
       "      <td>2019</td>\n",
       "      <td>No 7 Mine</td>\n",
       "      <td>Alabama</td>\n",
       "      <td>Jefferson</td>\n",
       "      <td>Active</td>\n",
       "      <td>Underground</td>\n",
       "      <td>Indepedent Producer Operator</td>\n",
       "      <td>Mine and Preparation Plant</td>\n",
       "      <td>Warrior Met Coal Mining, Llc</td>\n",
       "      <td>P.O. Box 133, Brookwood, AL 35444</td>\n",
       "      <td>United Mine Workers Of America</td>\n",
       "      <td>Appalachia Southern</td>\n",
       "      <td>6247986</td>\n",
       "      <td>869</td>\n",
       "      <td>2244324</td>\n",
       "    </tr>\n",
       "  </tbody>\n",
       "</table>\n",
       "</div>"
      ],
      "text/plain": [
       "         Year                    Mine Name Mine State Mine County Mine Status  \\\n",
       "MSHA ID                                                                         \n",
       "103489   2019                John Poe Mine    Alabama     De Kalb      Active   \n",
       "100329   2019  Oak Grove Preparation Plant    Alabama   Jefferson      Active   \n",
       "100627   2019                Flat Top Mine    Alabama   Jefferson      Active   \n",
       "100851   2019               Oak Grove Mine    Alabama   Jefferson      Active   \n",
       "101401   2019                    No 7 Mine    Alabama   Jefferson      Active   \n",
       "\n",
       "           Mine Type                  Company Type  \\\n",
       "MSHA ID                                              \n",
       "103489       Surface  Indepedent Producer Operator   \n",
       "100329   Underground  Indepedent Producer Operator   \n",
       "100627       Surface  Indepedent Producer Operator   \n",
       "100851   Underground  Indepedent Producer Operator   \n",
       "101401   Underground  Indepedent Producer Operator   \n",
       "\n",
       "                     Operation Type              Operating Company  \\\n",
       "MSHA ID                                                              \n",
       "103489                    Mine only  Kennedy Brothers Construction   \n",
       "100329            Preparation Plant      Murray Oak Grove Coal Llc   \n",
       "100627                    Mine only         Cedar Lake Mining, Inc   \n",
       "100851                    Mine only      Murray Oak Grove Coal Llc   \n",
       "101401   Mine and Preparation Plant   Warrior Met Coal Mining, Llc   \n",
       "\n",
       "                         Operating Company Address  \\\n",
       "MSHA ID                                              \n",
       "103489        756 Co. Rd 676, Fort Payne, AL 35968   \n",
       "100329   8360 Taylors Ferry Rd, Hueytown, AL 35023   \n",
       "100627             P.O. Box 1608, Jasper, AL 35502   \n",
       "100851   8360 Taylors Ferry Rd, Bessemer, AL 35023   \n",
       "101401           P.O. Box 133, Brookwood, AL 35444   \n",
       "\n",
       "                             Union Code   Coal Supply Region  \\\n",
       "MSHA ID                                                        \n",
       "103489                              NaN  Appalachia Southern   \n",
       "100329   United Mine Workers Of America  Appalachia Southern   \n",
       "100627                              NaN  Appalachia Southern   \n",
       "100851   United Mine Workers Of America  Appalachia Southern   \n",
       "101401   United Mine Workers Of America  Appalachia Southern   \n",
       "\n",
       "         Production (short tons)  Average Employees  Labor Hours  \n",
       "MSHA ID                                                           \n",
       "103489                      2913                  2          720  \n",
       "100329                         0                 58       152268  \n",
       "100627                    259730                 40       112709  \n",
       "100851                   1364382                456      1094695  \n",
       "101401                   6247986                869      2244324  "
      ]
     },
     "execution_count": 5,
     "metadata": {},
     "output_type": "execute_result"
    }
   ],
   "source": [
    "df.head()"
   ]
  },
  {
   "cell_type": "code",
   "execution_count": 6,
   "id": "6a77f808-3bfe-42f0-8e4d-7f5d81506e0a",
   "metadata": {},
   "outputs": [
    {
     "data": {
      "text/plain": [
       "array(['Indepedent Producer Operator', 'Operating Subsidiary',\n",
       "       'Contractor'], dtype=object)"
      ]
     },
     "execution_count": 6,
     "metadata": {},
     "output_type": "execute_result"
    }
   ],
   "source": [
    "df['Company Type'].unique()"
   ]
  },
  {
   "cell_type": "markdown",
   "id": "ff8c5ff3-77e3-46ed-bea8-0917eb6f6883",
   "metadata": {},
   "source": [
    "Mistake rename indepedent to independent"
   ]
  },
  {
   "cell_type": "code",
   "execution_count": 7,
   "id": "017a6b18-6c82-42ed-b393-33b05ba57f50",
   "metadata": {},
   "outputs": [],
   "source": [
    "df['Company Type'].replace(to_replace='Indepedent Producer Operator', \n",
    "                           value='Independent Producer Operator',\n",
    "                          inplace=True)"
   ]
  },
  {
   "cell_type": "markdown",
   "id": "7594ab1e-b33a-4015-b775-44f53a35cf10",
   "metadata": {},
   "source": [
    "Changing spaces to underscores"
   ]
  },
  {
   "cell_type": "code",
   "execution_count": 8,
   "id": "fb1cbd12-ae3e-4ff3-a8d9-7ceed14b75ec",
   "metadata": {},
   "outputs": [],
   "source": [
    "df.rename(columns=lambda x: x.replace (\" \",\"_\"), inplace=True)"
   ]
  },
  {
   "cell_type": "markdown",
   "id": "b24f8d0e-08b7-47b1-a4d5-7f35aa16cbc5",
   "metadata": {},
   "source": [
    "Here the data is removed. \n",
    "Coal mines with no coal production."
   ]
  },
  {
   "cell_type": "code",
   "execution_count": 39,
   "id": "88d807cd-5c20-47c8-8a10-5061aec94b98",
   "metadata": {},
   "outputs": [],
   "source": [
    "df=df[df['Production_(short_tons)']>0]"
   ]
  },
  {
   "cell_type": "code",
   "execution_count": 40,
   "id": "5eb31d59-f0dd-4ddb-ae26-e4dd2167c47f",
   "metadata": {},
   "outputs": [
    {
     "data": {
      "text/plain": [
       "669"
      ]
     },
     "execution_count": 40,
     "metadata": {},
     "output_type": "execute_result"
    }
   ],
   "source": [
    "len(df)\n"
   ]
  },
  {
   "cell_type": "markdown",
   "id": "c75116f5-42d0-481a-8e85-fc933b747457",
   "metadata": {},
   "source": [
    "Creating a new column logarithm of the production."
   ]
  },
  {
   "cell_type": "code",
   "execution_count": 45,
   "id": "928c9b8c-3dd5-44d8-b354-282a90e7d573",
   "metadata": {},
   "outputs": [
    {
     "name": "stderr",
     "output_type": "stream",
     "text": [
      "<ipython-input-45-df324a148256>:1: SettingWithCopyWarning: \n",
      "A value is trying to be set on a copy of a slice from a DataFrame.\n",
      "Try using .loc[row_indexer,col_indexer] = value instead\n",
      "\n",
      "See the caveats in the documentation: https://pandas.pydata.org/pandas-docs/stable/user_guide/indexing.html#returning-a-view-versus-a-copy\n",
      "  df['Log_Production']=np.log(df['Production_(short_tons)'])\n"
     ]
    }
   ],
   "source": [
    "df['Log_Production']=np.log(df['Production_(short_tons)'])"
   ]
  },
  {
   "cell_type": "code",
   "execution_count": 47,
   "id": "50e302e7-4ff1-4326-9fae-8f3248f4c5a9",
   "metadata": {},
   "outputs": [
    {
     "data": {
      "text/plain": [
       "<AxesSubplot:>"
      ]
     },
     "execution_count": 47,
     "metadata": {},
     "output_type": "execute_result"
    },
    {
     "data": {
      "image/png": "[encoded data removed]",
      "text/plain": [
       "<Figure size 432x288 with 1 Axes>"
      ]
     },
     "metadata": {},
     "output_type": "display_data"
    }
   ],
   "source": [
    "df.Log_Production.hist()"
   ]
  },
  {
   "cell_type": "code",
   "execution_count": 48,
   "id": "210e4e57-3b38-4241-b743-1a57ccabc10b",
   "metadata": {},
   "outputs": [],
   "source": [
    "df.to_csv(output_file)"
   ]
  },
  {
   "cell_type": "code",
   "execution_count": null,
   "id": "7f3341e4-55ad-4714-8b2d-f6e581075e36",
   "metadata": {},
   "outputs": [],
   "source": []
  }
 ],
 "metadata": {
  "kernelspec": {
   "display_name": "Python 3",
   "language": "python",
   "name": "python3"
  },
  "language_info": {
   "codemirror_mode": {
    "name": "ipython",
    "version": 3
   },
   "file_extension": ".py",
   "mimetype": "text/x-python",
   "name": "python",
   "nbconvert_exporter": "python",
   "pygments_lexer": "ipython3",
   "version": "3.8.8"
  }
 },
 "nbformat": 4,
 "nbformat_minor": 5
}
